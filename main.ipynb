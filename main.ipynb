{
 "cells": [
  {
   "attachments": {},
   "cell_type": "markdown",
   "metadata": {},
   "source": [
    "This guide will go over the basics of generating a csv from an array of dictionaries in python"
   ]
  },
  {
   "attachments": {},
   "cell_type": "markdown",
   "metadata": {},
   "source": [
    "    First, let's create a prime number generator"
   ]
  },
  {
   "cell_type": "code",
   "execution_count": 64,
   "metadata": {},
   "outputs": [],
   "source": [
    "def gen_prime(limit):\n",
    "    primes = [2]\n",
    "    count = 3\n",
    "    while count < limit:\n",
    "        is_prime = True\n",
    "        for p in primes:\n",
    "            if count % p == 0:\n",
    "                is_prime = False\n",
    "                break\n",
    "            if p*p >= count:\n",
    "                break\n",
    "        \n",
    "        if is_prime:\n",
    "            primes.append(count)\n",
    "        \n",
    "        count += 2\n",
    "    \n",
    "    return primes"
   ]
  },
  {
   "attachments": {},
   "cell_type": "markdown",
   "metadata": {},
   "source": [
    "    Now we will generate all prime numbers under 27"
   ]
  },
  {
   "cell_type": "code",
   "execution_count": 65,
   "metadata": {},
   "outputs": [
    {
     "name": "stdout",
     "output_type": "stream",
     "text": [
      "[2, 3, 5, 7, 11, 13, 17, 19, 23, 29, 31, 37, 41, 43, 47, 53, 59, 61, 67, 71, 73, 79, 83, 89, 97]\n"
     ]
    }
   ],
   "source": [
    "primes = gen_prime(100)\n",
    "print(primes)"
   ]
  },
  {
   "attachments": {},
   "cell_type": "markdown",
   "metadata": {},
   "source": [
    "    Lets define a bunch of data for the individual csv elements"
   ]
  },
  {
   "attachments": {},
   "cell_type": "markdown",
   "metadata": {},
   "source": [
    "        First we should make a reusable method for generating data from a set of prime numbers"
   ]
  },
  {
   "cell_type": "code",
   "execution_count": 66,
   "metadata": {},
   "outputs": [],
   "source": [
    "def make_data(arg):\n",
    "    data = []\n",
    "\n",
    "    difference = 0\n",
    "    for i in range(len(arg)):\n",
    "        if i > 0:\n",
    "            difference = arg[i] - arg[i-1]\n",
    "\n",
    "        data.append({\n",
    "            'index': i, \n",
    "            'value': arg[i],\n",
    "            \"difference\": difference,\n",
    "            'parity': 'even' if arg[i] & 1 == 0 else 'odd'\n",
    "        })\n",
    "\n",
    "    return data\n"
   ]
  },
  {
   "attachments": {},
   "cell_type": "markdown",
   "metadata": {},
   "source": [
    "        And now we can use that function to reliably create a data table"
   ]
  },
  {
   "cell_type": "code",
   "execution_count": 67,
   "metadata": {},
   "outputs": [
    {
     "name": "stdout",
     "output_type": "stream",
     "text": [
      "{'index': 0, 'value': 2, 'difference': 0, 'parity': 'even'}\n",
      "{'index': 1, 'value': 3, 'difference': 1, 'parity': 'odd'}\n",
      "{'index': 2, 'value': 5, 'difference': 2, 'parity': 'odd'}\n",
      "{'index': 3, 'value': 7, 'difference': 2, 'parity': 'odd'}\n",
      "{'index': 4, 'value': 11, 'difference': 4, 'parity': 'odd'}\n",
      "{'index': 5, 'value': 13, 'difference': 2, 'parity': 'odd'}\n",
      "{'index': 6, 'value': 17, 'difference': 4, 'parity': 'odd'}\n",
      "{'index': 7, 'value': 19, 'difference': 2, 'parity': 'odd'}\n",
      "{'index': 8, 'value': 23, 'difference': 4, 'parity': 'odd'}\n",
      "{'index': 9, 'value': 29, 'difference': 6, 'parity': 'odd'}\n",
      "{'index': 10, 'value': 31, 'difference': 2, 'parity': 'odd'}\n",
      "{'index': 11, 'value': 37, 'difference': 6, 'parity': 'odd'}\n",
      "{'index': 12, 'value': 41, 'difference': 4, 'parity': 'odd'}\n",
      "{'index': 13, 'value': 43, 'difference': 2, 'parity': 'odd'}\n",
      "{'index': 14, 'value': 47, 'difference': 4, 'parity': 'odd'}\n",
      "{'index': 15, 'value': 53, 'difference': 6, 'parity': 'odd'}\n",
      "{'index': 16, 'value': 59, 'difference': 6, 'parity': 'odd'}\n",
      "{'index': 17, 'value': 61, 'difference': 2, 'parity': 'odd'}\n",
      "{'index': 18, 'value': 67, 'difference': 6, 'parity': 'odd'}\n",
      "{'index': 19, 'value': 71, 'difference': 4, 'parity': 'odd'}\n",
      "{'index': 20, 'value': 73, 'difference': 2, 'parity': 'odd'}\n",
      "{'index': 21, 'value': 79, 'difference': 6, 'parity': 'odd'}\n",
      "{'index': 22, 'value': 83, 'difference': 4, 'parity': 'odd'}\n",
      "{'index': 23, 'value': 89, 'difference': 6, 'parity': 'odd'}\n",
      "{'index': 24, 'value': 97, 'difference': 8, 'parity': 'odd'}\n"
     ]
    }
   ],
   "source": [
    "data = make_data(primes)\n",
    "\n",
    "for d in data:\n",
    "    print(d)"
   ]
  },
  {
   "attachments": {},
   "cell_type": "markdown",
   "metadata": {},
   "source": [
    "        Let's export that data to csv"
   ]
  },
  {
   "cell_type": "code",
   "execution_count": 68,
   "metadata": {},
   "outputs": [],
   "source": [
    "import csv\n",
    "\n",
    "keys = data[0].keys()\n",
    "\n",
    "with open('out.csv', 'w') as file:\n",
    "    writer = csv.DictWriter(file, keys)\n",
    "\n",
    "    writer.writeheader()\n",
    "    writer.writerows(data)\n",
    "\n",
    "    file.close()"
   ]
  },
  {
   "attachments": {},
   "cell_type": "markdown",
   "metadata": {},
   "source": [
    "Perfect! Now we can read the csv and print the output."
   ]
  },
  {
   "cell_type": "code",
   "execution_count": 69,
   "metadata": {},
   "outputs": [
    {
     "name": "stdout",
     "output_type": "stream",
     "text": [
      "index,value,difference,parity\n",
      "0,2,0,even\n",
      "1,3,1,odd\n",
      "2,5,2,odd\n",
      "3,7,2,odd\n",
      "4,11,4,odd\n",
      "5,13,2,odd\n",
      "6,17,4,odd\n",
      "7,19,2,odd\n",
      "8,23,4,odd\n",
      "9,29,6,odd\n",
      "10,31,2,odd\n",
      "11,37,6,odd\n",
      "12,41,4,odd\n",
      "13,43,2,odd\n",
      "14,47,4,odd\n",
      "15,53,6,odd\n",
      "16,59,6,odd\n",
      "17,61,2,odd\n",
      "18,67,6,odd\n",
      "19,71,4,odd\n",
      "20,73,2,odd\n",
      "21,79,6,odd\n",
      "22,83,4,odd\n",
      "23,89,6,odd\n",
      "24,97,8,odd\n",
      "\n"
     ]
    }
   ],
   "source": [
    "with open('out.csv') as file:\n",
    "    text = file.read()\n",
    "    file.close()\n",
    "\n",
    "    print(text)"
   ]
  }
 ],
 "metadata": {
  "kernelspec": {
   "display_name": "Python 3",
   "language": "python",
   "name": "python3"
  },
  "language_info": {
   "codemirror_mode": {
    "name": "ipython",
    "version": 3
   },
   "file_extension": ".py",
   "mimetype": "text/x-python",
   "name": "python",
   "nbconvert_exporter": "python",
   "pygments_lexer": "ipython3",
   "version": "3.10.6"
  },
  "orig_nbformat": 4
 },
 "nbformat": 4,
 "nbformat_minor": 2
}
