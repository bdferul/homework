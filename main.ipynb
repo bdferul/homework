{
 "cells": [
  {
   "attachments": {},
   "cell_type": "markdown",
   "metadata": {},
   "source": [
    "This guide will go over the basics of generating a csv from an array of dictionaries in python"
   ]
  },
  {
   "attachments": {},
   "cell_type": "markdown",
   "metadata": {},
   "source": [
    "        First, some definitions"
   ]
  },
  {
   "cell_type": "code",
   "execution_count": 28,
   "metadata": {},
   "outputs": [
    {
     "name": "stdout",
     "output_type": "stream",
     "text": [
      "{'field': 'value', 'george': 43, 'list': ['h', 7, True], 'dict-ception': {'boolean': True}}\n"
     ]
    }
   ],
   "source": [
    "# this is a dictionary\n",
    "dictionary = {\n",
    "    'field': 'value',\n",
    "\n",
    "    # a field can be any string\n",
    "    'george': 43, # and a value can be any type\n",
    "\n",
    "    # you can store an array\n",
    "    'list': ['h', 7, True],\n",
    "\n",
    "    # you can even store another dictionary\n",
    "    'dict-ception': {\n",
    "        \"boolean\": True\n",
    "    }\n",
    "}\n",
    "\n",
    "print(dictionary)"
   ]
  },
  {
   "attachments": {},
   "cell_type": "markdown",
   "metadata": {},
   "source": [
    "        Let's reset before we begin"
   ]
  },
  {
   "cell_type": "code",
   "execution_count": 29,
   "metadata": {},
   "outputs": [
    {
     "name": "stdout",
     "output_type": "stream",
     "text": [
      "Don't know how to reset  #, please run `%reset?` for details\n",
      "Don't know how to reset  this, please run `%reset?` for details\n",
      "Don't know how to reset  will, please run `%reset?` for details\n",
      "Don't know how to reset  delete, please run `%reset?` for details\n",
      "Don't know how to reset  all, please run `%reset?` for details\n",
      "Don't know how to reset  stored, please run `%reset?` for details\n",
      "Don't know how to reset  variables, please run `%reset?` for details\n"
     ]
    }
   ],
   "source": [
    "%reset -f # this will delete all stored variables"
   ]
  },
  {
   "attachments": {},
   "cell_type": "markdown",
   "metadata": {},
   "source": [
    "    Now the we understand the basics, let's create a prime number generator"
   ]
  },
  {
   "cell_type": "code",
   "execution_count": 30,
   "metadata": {},
   "outputs": [],
   "source": [
    "def gen_prime(limit):\n",
    "    primes = [2]\n",
    "    count = 3\n",
    "    while count < limit:\n",
    "        is_prime = True\n",
    "        for p in primes:\n",
    "            if count % p == 0:\n",
    "                is_prime = False\n",
    "                break\n",
    "            if p*p >= count:\n",
    "                break\n",
    "        \n",
    "        if is_prime:\n",
    "            primes.append(count)\n",
    "        \n",
    "        count += 2\n",
    "    \n",
    "    return primes"
   ]
  },
  {
   "attachments": {},
   "cell_type": "markdown",
   "metadata": {},
   "source": [
    "    Now we will generate all prime numbers under 27"
   ]
  },
  {
   "cell_type": "code",
   "execution_count": 31,
   "metadata": {},
   "outputs": [
    {
     "name": "stdout",
     "output_type": "stream",
     "text": [
      "[2, 3, 5, 7]\n"
     ]
    }
   ],
   "source": [
    "primes = gen_prime(10)\n",
    "print(primes)"
   ]
  },
  {
   "attachments": {},
   "cell_type": "markdown",
   "metadata": {},
   "source": [
    "    Lets define a bunch of data for the individual csv elements"
   ]
  },
  {
   "attachments": {},
   "cell_type": "markdown",
   "metadata": {},
   "source": [
    "        First we should make a reusable method for generating data from a set of prime numbers"
   ]
  },
  {
   "cell_type": "code",
   "execution_count": 32,
   "metadata": {},
   "outputs": [],
   "source": [
    "def make_data(arg):\n",
    "    data = []\n",
    "\n",
    "    difference = 0\n",
    "    for i in range(len(arg)):\n",
    "        if i > 0:\n",
    "            difference = arg[i] - arg[i-1]\n",
    "\n",
    "        data.append({\n",
    "            'index': i, \n",
    "            'value': arg[i],\n",
    "            \"difference\": difference,\n",
    "            'parity': 'even' if arg[i] & 1 == 0 else 'odd'\n",
    "        })\n",
    "\n",
    "    return data\n"
   ]
  },
  {
   "attachments": {},
   "cell_type": "markdown",
   "metadata": {},
   "source": [
    "        And now we can use that function to reliably create a data table"
   ]
  },
  {
   "cell_type": "code",
   "execution_count": 33,
   "metadata": {},
   "outputs": [
    {
     "name": "stdout",
     "output_type": "stream",
     "text": [
      "{'index': 0, 'value': 2, 'difference': 0, 'parity': 'even'}\n",
      "{'index': 1, 'value': 3, 'difference': 1, 'parity': 'odd'}\n",
      "{'index': 2, 'value': 5, 'difference': 2, 'parity': 'odd'}\n",
      "{'index': 3, 'value': 7, 'difference': 2, 'parity': 'odd'}\n"
     ]
    }
   ],
   "source": [
    "data = make_data(primes)\n",
    "\n",
    "for d in data:\n",
    "    print(d)"
   ]
  },
  {
   "attachments": {},
   "cell_type": "markdown",
   "metadata": {},
   "source": [
    "        Let's export that data to csv"
   ]
  },
  {
   "cell_type": "code",
   "execution_count": 34,
   "metadata": {},
   "outputs": [],
   "source": [
    "import csv\n",
    "\n",
    "keys = data[0].keys()\n",
    "\n",
    "with open('out.csv', 'w') as file:\n",
    "    writer = csv.DictWriter(file, keys)\n",
    "\n",
    "    writer.writeheader()\n",
    "    writer.writerows(data)\n",
    "\n",
    "    file.close()"
   ]
  },
  {
   "attachments": {},
   "cell_type": "markdown",
   "metadata": {},
   "source": [
    "Perfect! Now we can read the csv and print the output."
   ]
  },
  {
   "cell_type": "code",
   "execution_count": 35,
   "metadata": {},
   "outputs": [
    {
     "name": "stdout",
     "output_type": "stream",
     "text": [
      "index,value,difference,parity\n",
      "0,2,0,even\n",
      "1,3,1,odd\n",
      "2,5,2,odd\n",
      "3,7,2,odd\n",
      "\n"
     ]
    }
   ],
   "source": [
    "with open('out.csv') as file:\n",
    "    text = file.read()\n",
    "    file.close()\n",
    "\n",
    "    print(text)"
   ]
  }
 ],
 "metadata": {
  "kernelspec": {
   "display_name": "Python 3",
   "language": "python",
   "name": "python3"
  },
  "language_info": {
   "codemirror_mode": {
    "name": "ipython",
    "version": 3
   },
   "file_extension": ".py",
   "mimetype": "text/x-python",
   "name": "python",
   "nbconvert_exporter": "python",
   "pygments_lexer": "ipython3",
   "version": "3.10.6"
  },
  "orig_nbformat": 4
 },
 "nbformat": 4,
 "nbformat_minor": 2
}
