{
 "cells": [
  {
   "cell_type": "markdown",
   "id": "a4888fd6",
   "metadata": {},
   "source": [
    "# Today we will be creating a prime number generator, and pulling useful data from the generated values.\n",
    "\n",
    "Let's start by modelling our data."
   ]
  },
  {
   "cell_type": "code",
   "execution_count": 2,
   "id": "9e54c5dc",
   "metadata": {
    "vscode": {
     "languageId": "rust"
    }
   },
   "outputs": [],
   "source": [
    "struct Primes {\n",
    "    data: Vec<i64>,\n",
    "}"
   ]
  },
  {
   "cell_type": "markdown",
   "id": "d484a09f",
   "metadata": {},
   "source": [
    "We should implement a method for generating the prime numbers."
   ]
  },
  {
   "cell_type": "code",
   "execution_count": 3,
   "id": "7ba467f8",
   "metadata": {
    "vscode": {
     "languageId": "rust"
    }
   },
   "outputs": [],
   "source": [
    "impl Primes {\n",
    "    fn new(size: usize) -> Self {\n",
    "        let mut primes = vec![2];\n",
    "        for count in (3..).step_by(2) {\n",
    "            if primes.len() >= size {\n",
    "                break;\n",
    "            }\n",
    "\n",
    "            let mut is_prime = true;\n",
    "\n",
    "            for &p in &primes {\n",
    "                if count % p == 0 {\n",
    "                    is_prime = false;\n",
    "                    break;\n",
    "                }\n",
    "                if p * p >= count {\n",
    "                    break;\n",
    "                }\n",
    "            }\n",
    "\n",
    "            if is_prime {\n",
    "                primes.push(count);\n",
    "            }\n",
    "        }\n",
    "\n",
    "        Self { data: primes }\n",
    "    }\n",
    "}"
   ]
  },
  {
   "attachments": {},
   "cell_type": "markdown",
   "id": "069f37eb",
   "metadata": {},
   "source": [
    "We can now easily generate a vector of prime numbers with a given size. Here is how that works."
   ]
  },
  {
   "cell_type": "code",
   "execution_count": 4,
   "id": "7e8eb549",
   "metadata": {
    "vscode": {
     "languageId": "rust"
    }
   },
   "outputs": [
    {
     "name": "stdout",
     "output_type": "stream",
     "text": [
      "[2, 3, 5, 7, 11, 13, 17, 19, 23, 29, 31, 37, 41, 43, 47, 53, 59, 61, 67, 71, 73, 79, 83, 89, 97]\n"
     ]
    }
   ],
   "source": [
    "println!(\"{:?}\", Primes::new(25).data);"
   ]
  },
  {
   "attachments": {},
   "cell_type": "markdown",
   "id": "d728d55f",
   "metadata": {},
   "source": [
    "Now that we have our data, let's define our next structure. We should create a structure containing all the data we want to extract."
   ]
  },
  {
   "cell_type": "code",
   "execution_count": 5,
   "id": "f877d82f",
   "metadata": {
    "vscode": {
     "languageId": "rust"
    }
   },
   "outputs": [],
   "source": [
    "struct DisplayValues {\n",
    "    id: usize,\n",
    "    value: i64,\n",
    "    difference: i64,\n",
    "    parity: Parity,\n",
    "    mod_4: i64,\n",
    "}\n",
    "\n",
    "#[derive(Debug)]\n",
    "enum Parity {\n",
    "    Even,\n",
    "    Odd,\n",
    "}\n",
    "\n",
    "use Parity::*;"
   ]
  },
  {
   "attachments": {},
   "cell_type": "markdown",
   "id": "05407df6",
   "metadata": {},
   "source": [
    "Now we need a method for converting our `Prime` type into a vector of `DisplayValues`."
   ]
  },
  {
   "cell_type": "code",
   "execution_count": 6,
   "id": "d9bd837a",
   "metadata": {
    "vscode": {
     "languageId": "rust"
    }
   },
   "outputs": [],
   "source": [
    "impl Primes {\n",
    "    fn to_dv(self) -> Vec<DisplayValues> {\n",
    "        let mut last = 2;\n",
    "        self.data\n",
    "            .into_iter()\n",
    "            .enumerate()\n",
    "            .map(|(id, p)| DisplayValues {\n",
    "                id,\n",
    "                value: p,\n",
    "                difference: {\n",
    "                    let r = p - last;\n",
    "                    last = p;\n",
    "                    r\n",
    "                },\n",
    "                parity: if p & 1 == 0 { Even } else { Odd },\n",
    "                mod_4: p % 4,\n",
    "            })\n",
    "            .collect()\n",
    "    }\n",
    "}"
   ]
  },
  {
   "attachments": {},
   "cell_type": "markdown",
   "id": "f8532ce8",
   "metadata": {},
   "source": [
    "Implementing `to_dv()` allows us to do the following."
   ]
  },
  {
   "cell_type": "code",
   "execution_count": 7,
   "id": "7cacfbcf",
   "metadata": {
    "vscode": {
     "languageId": "rust"
    }
   },
   "outputs": [],
   "source": [
    "let display_values = Primes::new(3).to_dv();"
   ]
  },
  {
   "attachments": {},
   "cell_type": "markdown",
   "id": "3b1f2740",
   "metadata": {},
   "source": [
    "Now that we've modeled what values will be present in our csv file, we should implement a method for creating a csv formatted string from DisplayValues. We could do that for just DisplayValues, but this kind of implementation might do better as a trait. Let's define that."
   ]
  },
  {
   "cell_type": "code",
   "execution_count": 8,
   "id": "ad7a2201",
   "metadata": {
    "vscode": {
     "languageId": "rust"
    }
   },
   "outputs": [],
   "source": [
    "trait ToCSV {\n",
    "    const KEYS: &'static str;\n",
    "\n",
    "    fn values(&self) -> String;\n",
    "\n",
    "    fn csv(&self) -> String {\n",
    "        format!(\"{}\\n{}\", Self::KEYS, self.values())\n",
    "    }\n",
    "\n",
    "    fn write_csv(&self, file: &str) -> std::io::Result<()> {\n",
    "        std::fs::write(file, self.csv())\n",
    "    }\n",
    "}"
   ]
  },
  {
   "attachments": {},
   "cell_type": "markdown",
   "id": "61428d0f",
   "metadata": {},
   "source": [
    "With this definition, a CSV is seperated into two parts. There are the keys(or headers) and the values. We should store the keys as a constant. They won't need to change, or be programatically generated. The values will have to be generated as a String. We can combine the keys and values to create a full spreadsheet.  \n",
    "\n",
    "Now we can implement this trait for `DisplayValues`."
   ]
  },
  {
   "cell_type": "code",
   "execution_count": 9,
   "id": "6633e464",
   "metadata": {
    "vscode": {
     "languageId": "rust"
    }
   },
   "outputs": [],
   "source": [
    "impl ToCSV for DisplayValues {\n",
    "    const KEYS: &'static str = \"Id,Value,Parity,Difference,Mod 4\";\n",
    "\n",
    "    fn values(&self) -> String {\n",
    "        format!(\n",
    "            \"{},{},{:?},{},{}\",\n",
    "            self.id, self.value, self.parity, self.difference, self.mod_4\n",
    "        )\n",
    "    }\n",
    "}"
   ]
  },
  {
   "attachments": {},
   "cell_type": "markdown",
   "id": "2e1a8634",
   "metadata": {},
   "source": [
    "While we're at it, we might as well implement `ToCSV` for every `Vec<T>` where `T` already implements `ToCSV`. With that implementation, you have an incredibly simple way to create a CSV from pretty much any struct."
   ]
  },
  {
   "cell_type": "code",
   "execution_count": 10,
   "id": "9af3564c",
   "metadata": {
    "vscode": {
     "languageId": "rust"
    }
   },
   "outputs": [],
   "source": [
    "impl<T: ToCSV> ToCSV for Vec<T> {\n",
    "    const KEYS: &'static str = T::KEYS;\n",
    "\n",
    "    fn values(&self) -> String {\n",
    "        self.into_iter()\n",
    "            .map(|x| x.values() + \"\\n\")\n",
    "            .fold(String::new(), |acc, s| acc + &s)\n",
    "    }\n",
    "}"
   ]
  },
  {
   "attachments": {},
   "cell_type": "markdown",
   "id": "004811fe",
   "metadata": {},
   "source": [
    "With the `ToCSV` trait implemented for both types, we can now turn any vector of `DisplayValues` into a CSV string."
   ]
  },
  {
   "cell_type": "code",
   "execution_count": 11,
   "id": "1a44bf85",
   "metadata": {
    "vscode": {
     "languageId": "rust"
    }
   },
   "outputs": [],
   "source": [
    "let csv = display_values.csv();\n",
    "println!(\"{csv}\");"
   ]
  },
  {
   "attachments": {},
   "cell_type": "markdown",
   "id": "bd97d1dc",
   "metadata": {},
   "source": [
    "We can also do it all in one step like this:"
   ]
  },
  {
   "cell_type": "code",
   "execution_count": 12,
   "id": "dad58d31",
   "metadata": {
    "vscode": {
     "languageId": "rust"
    }
   },
   "outputs": [
    {
     "name": "stdout",
     "output_type": "stream",
     "text": [
      "Id,Value,Parity,Difference,Mod 4\n",
      "0,2,Even,0,2\n",
      "1,3,Odd,1,3\n",
      "3,7,Odd,2,3\n",
      "2,5,Odd,2,1\n",
      "4,11,Odd,4,3\n",
      "5,13,Odd,2,1\n",
      "6,17,Odd,4,1\n",
      "7,19,Odd,2,3\n",
      "8,23,Odd,4,3\n",
      "9,29,Odd,6,1\n",
      "\n"
     ]
    }
   ],
   "source": [
    "let csv: String = Primes::new(10).to_dv().csv();\n",
    "println!(\"{csv}\");"
   ]
  },
  {
   "attachments": {},
   "cell_type": "markdown",
   "id": "cc48b310",
   "metadata": {},
   "source": [
    "All of our data is now in CSV format. It isn't very usable like this, so our final step will be to output the `csv` String to a file. Lukily, we've already implemented a method in `ToCSV` which does just that. Any type that implements `ToCSV` will easily be able to write out to a csv file."
   ]
  },
  {
   "cell_type": "code",
   "execution_count": 13,
   "id": "9106ab4d",
   "metadata": {
    "vscode": {
     "languageId": "rust"
    }
   },
   "outputs": [],
   "source": [
    "Primes::new(100).to_dv().write_csv(\"out.csv\");"
   ]
  }
 ],
 "metadata": {
  "kernelspec": {
   "display_name": "Rust",
   "language": "rust",
   "name": "rust"
  },
  "language_info": {
   "codemirror_mode": "rust",
   "file_extension": ".rs",
   "mimetype": "text/rust",
   "name": "Rust",
   "pygment_lexer": "rust",
   "version": ""
  }
 },
 "nbformat": 4,
 "nbformat_minor": 5
}
